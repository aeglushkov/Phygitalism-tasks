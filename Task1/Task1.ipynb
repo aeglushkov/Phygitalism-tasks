{
 "cells": [
  {
   "cell_type": "markdown",
   "metadata": {},
   "source": [
    "# Описание задачи"
   ]
  },
  {
   "cell_type": "markdown",
   "metadata": {},
   "source": [
    "В некоторой архитектуре нейронной сети зависимость выхода $y \\in \\mathbb{R}$ от входа $(x_1, x_2) \\in \\mathbb{R}^2$ можно записать следующим образом:\n",
    "$$\n",
    "\\begin{align*}\n",
    "&f_1(x_1, x_2) = x_1 + x_2,\\\\\n",
    "&f_2(x_1, x_2) = x_1 \\cdot x_2,\\\\\n",
    "&g_1(x_1, x_2) = \\tan( f_1(x_1, x_2) + f_2(x_1, x_2) + 100),\\\\\n",
    "&g_2(x_1, x_2) = f_1(x_1, x_2) \\cdot f_2(x_1, x_2),\\\\\n",
    "&y(x_1, x_2) = p(g_1(x_1,x_2), g_2(x_1, x_2)),\n",
    "\\end{align*}\n",
    "$$\n",
    "где $p(g_1, g_2)-$ некоторая неизвестная функция.\n",
    "\n",
    "С помощью [механизма автоматического дифференцирования в PyTorch](https://pytorch.org/tutorials/beginner/blitz/autograd_tutorial.html#) необходимо вычислить значения частных производных в разных точках:\n",
    "$$\n",
    "\\frac{\\partial y}{\\partial x_1}, \\frac{\\partial y}{\\partial x_2}, \n",
    "$$\n",
    "\n",
    "Для этого в файле `dev.json` приведены значения $\\frac{\\partial p}{\\partial g_1}, \\frac{\\partial p}{\\partial g_2}$ (обозначены как `dpdg1, dpdg2`), вычисленные при известных значениях входа. \n",
    "\n",
    "Нужно:\n",
    "\n",
    "1. Загрузить данные из файла `dev.json`\n",
    "2. Посчитать значения нужных производных для каждой точки.\n",
    "3. Сохранить результат в формате CSV. Файл должен иметь следующую структуру:\n",
    "```\n",
    "id,dx1,dx2\n",
    "....\n",
    "```\n",
    "`id` - это значение `id` из `dev.json`, `dx1, dx2`- значение производных, вычисленные в точке `id` из `dev.json.`\n",
    "\n",
    "Ответ проверяется с помощью функции [math.isclose](https://docs.python.org/3/library/math.html#math.isclose) с точностью до `1e-8`. "
   ]
  },
  {
   "cell_type": "code",
   "execution_count": 1,
   "metadata": {},
   "outputs": [],
   "source": [
    "import torch\n",
    "import json"
   ]
  },
  {
   "cell_type": "code",
   "execution_count": 2,
   "metadata": {},
   "outputs": [],
   "source": [
    "with open(\"./dev.json\") as f:\n",
    "    dev = json.load(f)"
   ]
  },
  {
   "cell_type": "code",
   "execution_count": 3,
   "metadata": {},
   "outputs": [],
   "source": [
    "# Считываем x1 и x2\n",
    "x1 = torch.tensor([d['x1'] for d in dev], requires_grad=True)\n",
    "x2 = torch.tensor([d['x2'] for d in dev], requires_grad=True)\n",
    "\n",
    "# Считываем dpdg1 и dpdg2\n",
    "grad_g1 = torch.tensor([d['dpdg1'] for d in dev])\n",
    "grad_g2 = torch.tensor([d['dpdg2'] for d in dev])\n",
    "\n",
    "# Определяем значения функций в точках x1 и x2\n",
    "f1 = x1 + x2\n",
    "f2 = x1 * x2\n",
    "g1 = torch.tan(f1 + f2 + 100)\n",
    "g2 = f1 * f2"
   ]
  },
  {
   "cell_type": "markdown",
   "metadata": {},
   "source": [
    "Формулы:   \n",
    "$$\n",
    "\\frac{\\partial y}{\\partial x_1} = \\frac{\\partial p}{\\partial g_1}*\\frac{\\partial g_1}{\\partial x_1} + \\frac{\\partial p}{\\partial g_2}*\\frac{\\partial g_2}{\\partial x_1} (1)\n",
    "$$  \n",
    "\n",
    "$$\n",
    "\\frac{\\partial y}{\\partial x_2} = \\frac{\\partial p}{\\partial g_1}*\\frac{\\partial g_1}{\\partial x_2} + \\frac{\\partial p}{\\partial g_2}*\\frac{\\partial g_2}{\\partial x_2} (2)\n",
    "$$  \n"
   ]
  },
  {
   "cell_type": "code",
   "execution_count": 4,
   "metadata": {},
   "outputs": [],
   "source": [
    "# Получаем градиенты по g1\n",
    "g1.sum().backward(retain_graph=True)\n",
    "x1_grad = x1.grad\n",
    "x2_grad = x2.grad\n",
    "\n",
    "# Считаем первые слагаемые в формуле (1) и (2) соответственно\n",
    "a1 = grad_g1 * x1_grad\n",
    "a2 = grad_g1 * x2_grad\n",
    "x1.grad.zero_()\n",
    "x2.grad.zero_()\n",
    "\n",
    "# Получаем градиенты по g2\n",
    "g2.sum().backward(retain_graph=True)\n",
    "x1_grad = x1.grad\n",
    "x2_grad = x2.grad\n",
    "\n",
    "# Считаем вторые слагаемые в формуле (1) и (2) соответственно\n",
    "b1 = grad_g2 * x1_grad\n",
    "b2 = grad_g2 * x2_grad"
   ]
  },
  {
   "cell_type": "code",
   "execution_count": 5,
   "metadata": {},
   "outputs": [
    {
     "name": "stdout",
     "output_type": "stream",
     "text": [
      "dy/dx1 = [1.560255765914917, 4.967438220977783, 1397.6683349609375, 59.70181655883789, 91.28831481933594, -0.7811862230300903, -0.35697290301322937, 0.45325127243995667, 5.779941082000732, 0.7605778574943542]\n",
      "dy/dx2 = [2.0092973709106445, 3.0528149604797363, 1626.5355224609375, 46.438087463378906, 85.2686767578125, -0.6984623074531555, -0.3496031165122986, 0.2956584393978119, 5.595616340637207, 0.577911376953125]\n"
     ]
    }
   ],
   "source": [
    "dydx1 = a1 + b1\n",
    "dydx2 = a2 + b2\n",
    "print(f\"dy/dx1 = {dydx1.tolist()}\")\n",
    "print(f\"dy/dx2 = {dydx2.tolist()}\")"
   ]
  },
  {
   "cell_type": "code",
   "execution_count": null,
   "metadata": {},
   "outputs": [],
   "source": []
  }
 ],
 "metadata": {
  "kernelspec": {
   "display_name": "Python 3",
   "language": "python",
   "name": "python3"
  },
  "language_info": {
   "codemirror_mode": {
    "name": "ipython",
    "version": 3
   },
   "file_extension": ".py",
   "mimetype": "text/x-python",
   "name": "python",
   "nbconvert_exporter": "python",
   "pygments_lexer": "ipython3",
   "version": "3.7.10"
  }
 },
 "nbformat": 4,
 "nbformat_minor": 4
}
