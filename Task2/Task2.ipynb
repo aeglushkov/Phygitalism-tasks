{
 "cells": [
  {
   "cell_type": "markdown",
   "metadata": {},
   "source": [
    "# Описание задачи\n"
   ]
  },
  {
   "cell_type": "markdown",
   "metadata": {},
   "source": [
    "Дана матрица A:\n",
    "$$\n",
    "A = \\begin{pmatrix}\n",
    "1 & 0 & 0\\\\\n",
    "1 & 1 & 0\\\\\n",
    "0 & -1 & 1000\\\\\n",
    "\\end{pmatrix}\n",
    "$$\n",
    "\n",
    "Необходимо найти $ A^n, $ где $ n \\in \\mathbb{N} $"
   ]
  },
  {
   "cell_type": "code",
   "execution_count": 1,
   "metadata": {},
   "outputs": [],
   "source": [
    "import torch\n",
    "from pprint import pprint"
   ]
  },
  {
   "cell_type": "code",
   "execution_count": 2,
   "metadata": {},
   "outputs": [
    {
     "name": "stdout",
     "output_type": "stream",
     "text": [
      "tensor([[   1,    0,    0],\n",
      "        [   1,    1,    0],\n",
      "        [   0,   -1, 1000]])\n"
     ]
    }
   ],
   "source": [
    "A = torch.tensor([[1, 0, 0], [1, 1, 0], [0, -1, 1000]])\n",
    "pprint(A)"
   ]
  },
  {
   "cell_type": "markdown",
   "metadata": {},
   "source": [
    "Для начала решил использовать функцию ```matrix_power``` в ```pytorch```, однако она не подходит для больших значений n. И уже после $n=13$ происходит переполнение"
   ]
  },
  {
   "cell_type": "code",
   "execution_count": 3,
   "metadata": {},
   "outputs": [
    {
     "name": "stdout",
     "output_type": "stream",
     "text": [
      "Введите значение n:5\n",
      "tensor([[ 1.0000e+00,  0.0000e+00,  0.0000e+00],\n",
      "        [ 5.0000e+00,  1.0000e+00,  0.0000e+00],\n",
      "        [-1.0020e+09, -1.0010e+12,  1.0000e+15]])\n"
     ]
    }
   ],
   "source": [
    "n = int(input(\"Введите значение n:\"))\n",
    "pprint(torch.matrix_power(A.float(), n))"
   ]
  },
  {
   "cell_type": "markdown",
   "metadata": {},
   "source": [
    "Если посмотреть внимательно, то можно найти некоторые закономерности конечного результата от числа n. Так, например, значение во второй строке первого столбца всегда равно n, значение в третьей строке третьего столбца есть ни что иное, как $1000^n$\n",
    "Поэтому возведение в степень конкретно данной матрицы можно реализовать и для больших значений n, избегая переполнения."
   ]
  },
  {
   "cell_type": "code",
   "execution_count": 4,
   "metadata": {},
   "outputs": [
    {
     "name": "stdout",
     "output_type": "stream",
     "text": [
      "Введите значение n:5\n",
      "[[1, 0, 0], [5, 1, 0], [-1002003004, -1001001001001, 1000000000000000]]\n"
     ]
    }
   ],
   "source": [
    "n = int(input(\"Введите значение n:\"))\n",
    "A = torch.tensor([[1, 0, 0], [1, 1, 0], [0, -1, 1000]])\n",
    "ans = [[], [], []]\n",
    "if n == 1:\n",
    "    ans = A.tolist()\n",
    "else:\n",
    "    ans[0] = A[0].tolist()\n",
    "    ans[1] = A[1].tolist()\n",
    "    ans[1][0] = n\n",
    "    first = '-'\n",
    "    second = '-'\n",
    "    for i in range(1, n + 1):\n",
    "        if i < n:\n",
    "            first += str(i) + '00'\n",
    "        second += str(100)\n",
    "    ans[2].append(int(first[:-2]))\n",
    "    ans[2].append(int(second[:-2]))\n",
    "    ans[2].append(1000 ** n)\n",
    "pprint(ans)"
   ]
  },
  {
   "cell_type": "code",
   "execution_count": null,
   "metadata": {},
   "outputs": [],
   "source": []
  }
 ],
 "metadata": {
  "kernelspec": {
   "display_name": "Python 3",
   "language": "python",
   "name": "python3"
  },
  "language_info": {
   "codemirror_mode": {
    "name": "ipython",
    "version": 3
   },
   "file_extension": ".py",
   "mimetype": "text/x-python",
   "name": "python",
   "nbconvert_exporter": "python",
   "pygments_lexer": "ipython3",
   "version": "3.7.10"
  }
 },
 "nbformat": 4,
 "nbformat_minor": 2
}
